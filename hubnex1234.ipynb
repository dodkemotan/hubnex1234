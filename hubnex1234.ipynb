{
 "cells": [
  {
   "cell_type": "markdown",
   "id": "30a98e2f",
   "metadata": {},
   "source": [
    "# Indexing"
   ]
  },
  {
   "cell_type": "markdown",
   "id": "72d507b1",
   "metadata": {},
   "source": [
    "Access individual element of a tuple using square brackets"
   ]
  },
  {
   "cell_type": "code",
   "execution_count": 4,
   "id": "3a516c52",
   "metadata": {},
   "outputs": [
    {
     "data": {
      "text/plain": [
       "(12, 23, 34, 45, 56)"
      ]
     },
     "execution_count": 4,
     "metadata": {},
     "output_type": "execute_result"
    }
   ],
   "source": [
    "my_tuple = (12, 23, 34, 45, 56)\n",
    "my_tuple"
   ]
  },
  {
   "cell_type": "code",
   "execution_count": 5,
   "id": "e65a5b41",
   "metadata": {},
   "outputs": [
    {
     "name": "stdout",
     "output_type": "stream",
     "text": [
      "12\n"
     ]
    }
   ],
   "source": [
    "print(my_tuple[0])"
   ]
  },
  {
   "cell_type": "markdown",
   "id": "80430dc4",
   "metadata": {},
   "source": [
    "# slicing"
   ]
  },
  {
   "cell_type": "code",
   "execution_count": 6,
   "id": "39374766",
   "metadata": {},
   "outputs": [],
   "source": [
    "#extract a subest of elements from a tuple\n",
    "\n",
    "\n"
   ]
  },
  {
   "cell_type": "code",
   "execution_count": 7,
   "id": "5604733e",
   "metadata": {},
   "outputs": [
    {
     "data": {
      "text/plain": [
       "(10, 30, 40, 5, 10)"
      ]
     },
     "execution_count": 7,
     "metadata": {},
     "output_type": "execute_result"
    }
   ],
   "source": [
    "my_tuple = (10, 30, 40, 5, 10)\n",
    "my_tuple"
   ]
  },
  {
   "cell_type": "code",
   "execution_count": 8,
   "id": "6340cc21",
   "metadata": {},
   "outputs": [
    {
     "name": "stdout",
     "output_type": "stream",
     "text": [
      "(30, 40)\n"
     ]
    }
   ],
   "source": [
    "print(my_tuple[1:3])"
   ]
  },
  {
   "cell_type": "markdown",
   "id": "38580c17",
   "metadata": {},
   "source": [
    "# length"
   ]
  },
  {
   "cell_type": "code",
   "execution_count": 10,
   "id": "c5cbcdee",
   "metadata": {},
   "outputs": [],
   "source": [
    "#Get the number of elements in a tuple using the len()function"
   ]
  },
  {
   "cell_type": "code",
   "execution_count": 13,
   "id": "f694d64b",
   "metadata": {},
   "outputs": [
    {
     "data": {
      "text/plain": [
       "(23, 45, 56, 87, 98, 90, 70, 50, 58)"
      ]
     },
     "execution_count": 13,
     "metadata": {},
     "output_type": "execute_result"
    }
   ],
   "source": [
    "my_tuple = (23, 45, 56, 87, 98, 90, 70, 50,58)\n",
    "my_tuple"
   ]
  },
  {
   "cell_type": "code",
   "execution_count": 14,
   "id": "316e5563",
   "metadata": {},
   "outputs": [
    {
     "name": "stdout",
     "output_type": "stream",
     "text": [
      "9\n"
     ]
    }
   ],
   "source": [
    "print(len(my_tuple))"
   ]
  },
  {
   "cell_type": "markdown",
   "id": "44b9f100",
   "metadata": {},
   "source": [
    "# Concatenation"
   ]
  },
  {
   "cell_type": "code",
   "execution_count": 15,
   "id": "6100e09c",
   "metadata": {},
   "outputs": [],
   "source": [
    "#Concatenation two tuples using the +operater "
   ]
  },
  {
   "cell_type": "code",
   "execution_count": 17,
   "id": "e986b9a6",
   "metadata": {},
   "outputs": [],
   "source": [
    "tuple1 = (9,8,7,6,5,4,3,2,1)\n",
    "tuple2 = (90,80,78,67,56,45,34,23,12,34,45)\n",
    "concatenation_tuple = tuple1 + tuple2\n"
   ]
  },
  {
   "cell_type": "code",
   "execution_count": 18,
   "id": "9abf880e",
   "metadata": {},
   "outputs": [
    {
     "name": "stdout",
     "output_type": "stream",
     "text": [
      "(9, 8, 7, 6, 5, 4, 3, 2, 1, 90, 80, 78, 67, 56, 45, 34, 23, 12, 34, 45)\n"
     ]
    }
   ],
   "source": [
    "print(concatenation_tuple)"
   ]
  },
  {
   "cell_type": "markdown",
   "id": "17b0659a",
   "metadata": {},
   "source": [
    "# Repetition"
   ]
  },
  {
   "cell_type": "code",
   "execution_count": 19,
   "id": "fa5f1f9a",
   "metadata": {},
   "outputs": [],
   "source": [
    "#Repeat a tuple for a given number of times using the * operater"
   ]
  },
  {
   "cell_type": "code",
   "execution_count": 20,
   "id": "509c7c0d",
   "metadata": {},
   "outputs": [
    {
     "data": {
      "text/plain": [
       "(9, 8, 7, 6, 5, 4)"
      ]
     },
     "execution_count": 20,
     "metadata": {},
     "output_type": "execute_result"
    }
   ],
   "source": [
    "my_tuple = (9,8,7,6,5,4,)\n",
    "my_tuple"
   ]
  },
  {
   "cell_type": "code",
   "execution_count": 21,
   "id": "073b1c71",
   "metadata": {},
   "outputs": [],
   "source": [
    " repeated_tuple = my_tuple *3"
   ]
  },
  {
   "cell_type": "code",
   "execution_count": 22,
   "id": "9cfbe2dc",
   "metadata": {},
   "outputs": [
    {
     "name": "stdout",
     "output_type": "stream",
     "text": [
      "(9, 8, 7, 6, 5, 4, 9, 8, 7, 6, 5, 4, 9, 8, 7, 6, 5, 4)\n"
     ]
    }
   ],
   "source": [
    "print(repeated_tuple)"
   ]
  },
  {
   "cell_type": "markdown",
   "id": "af23fed8",
   "metadata": {},
   "source": [
    "# Count"
   ]
  },
  {
   "cell_type": "code",
   "execution_count": 23,
   "id": "f30f8ff3",
   "metadata": {},
   "outputs": [],
   "source": [
    "#Count the occurrences of specific element in a tuple using the count() method"
   ]
  },
  {
   "cell_type": "code",
   "execution_count": 24,
   "id": "fe3239e7",
   "metadata": {},
   "outputs": [
    {
     "data": {
      "text/plain": [
       "(8, 7, 6, 5, 4, 3, 2)"
      ]
     },
     "execution_count": 24,
     "metadata": {},
     "output_type": "execute_result"
    }
   ],
   "source": [
    "my_tuple = (8,7,6,5,4,3,2)\n",
    "my_tuple"
   ]
  },
  {
   "cell_type": "code",
   "execution_count": 25,
   "id": "4c4f3d6c",
   "metadata": {},
   "outputs": [
    {
     "name": "stdout",
     "output_type": "stream",
     "text": [
      "1\n"
     ]
    }
   ],
   "source": [
    "print(my_tuple.count(4))"
   ]
  },
  {
   "cell_type": "markdown",
   "id": "e8b219ff",
   "metadata": {},
   "source": [
    "# Sorted"
   ]
  },
  {
   "cell_type": "code",
   "execution_count": 26,
   "id": "7ee256d1",
   "metadata": {},
   "outputs": [],
   "source": [
    "# this method takes a tuple as an input and returns a sorted list as an output"
   ]
  },
  {
   "cell_type": "code",
   "execution_count": 27,
   "id": "a4af1d19",
   "metadata": {},
   "outputs": [
    {
     "data": {
      "text/plain": [
       "(65, 86, 7.8, 90, 5.8, 34, 26, 45)"
      ]
     },
     "execution_count": 27,
     "metadata": {},
     "output_type": "execute_result"
    }
   ],
   "source": [
    "my_tuple = (65,86,7.8,90,5.8,34,26,45)\n",
    "my_tuple"
   ]
  },
  {
   "cell_type": "code",
   "execution_count": 29,
   "id": "c59c6f71",
   "metadata": {},
   "outputs": [],
   "source": [
    "my_tuple1 = sorted(my_tuple)"
   ]
  },
  {
   "cell_type": "code",
   "execution_count": 30,
   "id": "a9d2bb1a",
   "metadata": {},
   "outputs": [
    {
     "data": {
      "text/plain": [
       "[5.8, 7.8, 26, 34, 45, 65, 86, 90]"
      ]
     },
     "execution_count": 30,
     "metadata": {},
     "output_type": "execute_result"
    }
   ],
   "source": [
    "my_tuple1"
   ]
  },
  {
   "cell_type": "code",
   "execution_count": 31,
   "id": "d744a5ba",
   "metadata": {},
   "outputs": [],
   "source": [
    "my_tuple2 = sorted(my_tuple)"
   ]
  },
  {
   "cell_type": "code",
   "execution_count": 32,
   "id": "7d25ef67",
   "metadata": {},
   "outputs": [
    {
     "data": {
      "text/plain": [
       "[5.8, 7.8, 26, 34, 45, 65, 86, 90]"
      ]
     },
     "execution_count": 32,
     "metadata": {},
     "output_type": "execute_result"
    }
   ],
   "source": [
    "my_tuple2"
   ]
  },
  {
   "cell_type": "code",
   "execution_count": null,
   "id": "154ad083",
   "metadata": {},
   "outputs": [],
   "source": []
  }
 ],
 "metadata": {
  "kernelspec": {
   "display_name": "Python 3 (ipykernel)",
   "language": "python",
   "name": "python3"
  },
  "language_info": {
   "codemirror_mode": {
    "name": "ipython",
    "version": 3
   },
   "file_extension": ".py",
   "mimetype": "text/x-python",
   "name": "python",
   "nbconvert_exporter": "python",
   "pygments_lexer": "ipython3",
   "version": "3.11.5"
  }
 },
 "nbformat": 4,
 "nbformat_minor": 5
}
